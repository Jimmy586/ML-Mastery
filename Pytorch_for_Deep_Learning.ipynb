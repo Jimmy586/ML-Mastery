{
  "nbformat": 4,
  "nbformat_minor": 0,
  "metadata": {
    "colab": {
      "provenance": [],
      "gpuType": "T4",
      "authorship_tag": "ABX9TyPJpjs3BJgnaQL99fEzc/XJ",
      "include_colab_link": true
    },
    "kernelspec": {
      "name": "python3",
      "display_name": "Python 3"
    },
    "language_info": {
      "name": "python"
    },
    "accelerator": "GPU"
  },
  "cells": [
    {
      "cell_type": "markdown",
      "metadata": {
        "id": "view-in-github",
        "colab_type": "text"
      },
      "source": [
        "<a href=\"https://colab.research.google.com/github/Jimmy586/ML-Mastery/blob/main/Pytorch_for_Deep_Learning.ipynb\" target=\"_parent\"><img src=\"https://colab.research.google.com/assets/colab-badge.svg\" alt=\"Open In Colab\"/></a>"
      ]
    },
    {
      "cell_type": "markdown",
      "source": [
        "# **Introduction to Tensors** **bold text**\n",
        "# Creating tensors"
      ],
      "metadata": {
        "id": "1CQux4rM8eUR"
      }
    },
    {
      "cell_type": "code",
      "source": [
        "# Scalar\n"
      ],
      "metadata": {
        "id": "QHan36RM8ntp"
      },
      "execution_count": null,
      "outputs": []
    }
  ]
}